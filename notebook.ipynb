{
 "cells": [
  {
   "cell_type": "markdown",
   "metadata": {},
   "source": [
    "# r 0.1.5"
   ]
  },
  {
   "cell_type": "code",
   "execution_count": null,
   "metadata": {},
   "outputs": [],
   "source": [
    "# Testing the graph generator\n",
    "import chargen\n",
    "\n",
    "json = chargen.loadJson('config/localizaciones.json')\n",
    "\n",
    "alcries = chargen.LocalizacionesNodo(json['Alcries'])\n",
    "onda = chargen.LocalizacionesNodo(json['Onda'])\n",
    "ayodar = chargen.LocalizacionesNodo(json['Ayodar'])\n",
    "valencia = chargen.LocalizacionesNodo(json['Valencia'])\n",
    "\n",
    "grafo = chargen.GrafoLocalizaciones()\n",
    "grafo.setNodo(alcries)\n",
    "grafo.setNodo(onda)\n",
    "grafo.setNodo(ayodar)\n",
    "grafo.setNodo(valencia)\n",
    "\n",
    "print(grafo.getShortestPath(\"Onda\", \"Valencia\"))\n",
    "\n",
    "valencia.addEnlace(onda, 1)\n",
    "grafo.setNodo(valencia)\n",
    "\n",
    "print(grafo.getShortestPath(\"Onda\", \"Valencia\"))\n",
    "\n",
    "valencia.addEnlace(onda, 0.5)\n",
    "grafo.setNodo(valencia)\n",
    "\n",
    "print(grafo.getShortestPath(\"Onda\", \"Valencia\"))\n",
    "\n",
    "onda.addEnlace(valencia, 0.5)\n",
    "grafo.setNodo(onda)\n",
    "\n",
    "print(grafo.getShortestPath(\"Onda\", \"Valencia\"))\n"
   ]
  },
  {
   "cell_type": "code",
   "execution_count": null,
   "metadata": {},
   "outputs": [],
   "source": [
    "import os\n",
    "from chargen import render\n",
    "from chargen import Character\n",
    "\n",
    "#check if file exists\n",
    "if not os.path.isfile('json/personaje_2.json'):\n",
    "    david = Character({\"sexo\": \"Hombre\", \"eventos\": {\"nacimiento\": 1991}})\n",
    "    print(render.markdownGenerator(david.file))\n",
    "else:\n",
    "    david = Character({}, \"personaje_2.json\")\n",
    "    print(render.markdownGenerator(david.file))"
   ]
  }
 ],
 "metadata": {
  "kernelspec": {
   "display_name": "Python 3.9.13 64-bit (windows store)",
   "language": "python",
   "name": "python3"
  },
  "language_info": {
   "codemirror_mode": {
    "name": "ipython",
    "version": 3
   },
   "file_extension": ".py",
   "mimetype": "text/x-python",
   "name": "python",
   "nbconvert_exporter": "python",
   "pygments_lexer": "ipython3",
   "version": "3.9.13"
  },
  "orig_nbformat": 4,
  "vscode": {
   "interpreter": {
    "hash": "8a0bd2095b353ab5a15c331f6238ff6e5f0a1ddfb6f59cc2bb169b808bdd1655"
   }
  }
 },
 "nbformat": 4,
 "nbformat_minor": 2
}
