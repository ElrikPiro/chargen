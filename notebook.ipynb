{
 "cells": [
  {
   "cell_type": "code",
   "execution_count": null,
   "metadata": {},
   "outputs": [],
   "source": [
    "\"\"\"Hola mundo\"\"\"\n",
    "import chargen\n",
    "\n",
    "chargen.core.helloWorld()"
   ]
  },
  {
   "cell_type": "markdown",
   "metadata": {},
   "source": [
    "# Necesidades\n",
    "El almacenamiento de datos se hace en ficheros json, la creación básica debe tener unos datos básicos sobre el personaje, Así se empezará con este modo:\n",
    "el procedimiento solo se lleva a cabo en caso de que el dato no esté disponible.\n",
    "\n",
    "`personaje_NOMBRE_BORNYEAR.json`\n",
    "    Nombre: int (`nombresPropios.json` (int,string)) `Procedimiento: modificar nombresPropios.json para añadir 1 al contador de nombres y colocar aqui el numero del índice`\n",
    "    Año de nacimiento: int `Procedimiento: getMadre().getHijos() y seleccionar aleatoriamente uno de los hermanos`\n",
    "    Año de muerte: int `procedimiento: Año de nacimiento + rollLifespan()`\n",
    "    Año de la boda: int `procedimiento: Año de nacimiento + rollWeddingTime()`\n",
    "    Sexo: string `procedimiento: deducido durante el procedimiento del año de nacimiento`\n",
    "    Edad: \n",
    "        - Obra 0..N : int (con la edad, se rellenará con `obras.json`, requiere de Año de nacimiento)\n",
    "    Familia: int (`familia.json`) `procedimiento: getPadre().hasFamilia() ? getPadre().getFamilia() : {generateNewFamilyId(); updateFamilyIdToRelatives()}` (a partir de ahora, procedimiento estandar)\n",
    "        Raza: se deduce de la familia `razas.json`\n",
    "    Lugar de Nacimiento: string (Lugar de residencia del padre `localizaciones.json`) `procedimiento estandar: padre`\n",
    "    Lugar de Residencia: string (Lugar de nacimiento (hombre), lugar de residencia del marido (mujer)) `procedimiento estandar: padre/marido`\n",
    "    Clase social: Clase social del padre (hombre), clase social del marido (mujer) `procedimiento estandar: padre/marido`\n",
    "\n",
    "Padre: Character : getPadre()\n",
    "Madre: Character : getMadre()\n",
    "Hermanos: List<Character> : getMadre().getHijos() - self\n",
    "Conyugue: Character : casamentera() (modo: \"Metodología: Para la familia\" o \"test de compatibilidad de solteros\")\n",
    "Hijos: getHijos()\n",
    "Personalidad: generarPersonalidad(getPadre(), getMadre())\n",
    "\n",
    "# Tipos a desarrollar en pseudocodigo\n",
    "    \n",
    "\n",
    "# Funciones a desarrollar"
   ]
  },
  {
   "cell_type": "code",
   "execution_count": null,
   "metadata": {},
   "outputs": [],
   "source": [
    "from chargen import Character\n",
    "\n",
    "personaje = Character({}, 'jason.json')\n",
    "nombre = personaje.getNombre()\n",
    "nacimiento = personaje.getNacimiento()\n",
    "muerte = personaje.getMuerte()\n",
    "matrimonio = personaje.getMatrimonio()\n",
    "sexo = personaje.getSexo()\n",
    "edad = personaje.getEdad(\"Mockup\")\n",
    "familia = personaje.getFamilia()\n",
    "lugarNacimiento = personaje.getLugarNacimiento()['nombre']\n",
    "lugarResidencia = personaje.getLugarResidencia()['nombre']\n",
    "claseSocial = personaje.getClaseSocial()\n",
    "\n",
    "papasito = personaje.getPadre()\n",
    "mamasita = personaje.getMadre()\n",
    "listaHermanos = personaje.getHermanos()\n",
    "conyugue = personaje.getConyugue()\n",
    "hijos = personaje.getHijos()\n",
    "\n",
    "daddy = papasito.getPersonalidad()\n",
    "mommy = mamasita.getPersonalidad()\n",
    "mine = personaje.getPersonalidad()\n",
    "\n",
    "genesPapa = papasito.getGenoma()\n",
    "genesMama = mamasita.getGenoma()\n",
    "misGenes = personaje.getGenoma()\n",
    "\n",
    "##personaje.save()\n"
   ]
  },
  {
   "cell_type": "code",
   "execution_count": null,
   "metadata": {},
   "outputs": [],
   "source": [
    "import os\n",
    "from chargen import render\n",
    "from chargen import Character\n",
    "\n",
    "#check if file exists\n",
    "if not os.path.isfile('json/personaje_2_1991.json'):\n",
    "    david = Character({\"sexo\": \"Hombre\", \"nombre\": 2, \"eventos\": {\"nacimiento\": 1991}})\n",
    "    print(render.markdownGenerator(david.file))\n",
    "else:\n",
    "    david = Character({}, \"personaje_2_1991.json\")\n",
    "    print(render.markdownGenerator(david.file))"
   ]
  },
  {
   "cell_type": "code",
   "execution_count": null,
   "metadata": {},
   "outputs": [],
   "source": [
    "import json\n",
    "\n",
    "# load file as string\n",
    "with open(\"necesidades.csv\", \"r\") as f:\n",
    "    data = f.read()\n",
    "\n",
    "# split string into list of lines\n",
    "lines = data.splitlines()\n",
    "\n",
    "#str positivo, str negativo, personalidad que suma, personalidad que resta\n",
    "retval = []\n",
    "for line in lines:\n",
    "    line = line.split(\",\")\n",
    "    strPositivo = line[0]\n",
    "    strNegativo = line[1]\n",
    "    sumPersonalidad = line[2].split(\";\")\n",
    "    retval.append((strPositivo, strNegativo, sumPersonalidad))\n",
    "\n",
    "retval = {\"necesidades\" : retval}\n",
    "\n",
    "# save as json\n",
    "with open(\"necesidades.json\", \"w\") as f:\n",
    "    json.dump(retval, f, indent=4)\n"
   ]
  }
 ],
 "metadata": {
  "kernelspec": {
   "display_name": "Python 3.9.13 64-bit (windows store)",
   "language": "python",
   "name": "python3"
  },
  "language_info": {
   "codemirror_mode": {
    "name": "ipython",
    "version": 3
   },
   "file_extension": ".py",
   "mimetype": "text/x-python",
   "name": "python",
   "nbconvert_exporter": "python",
   "pygments_lexer": "ipython3",
   "version": "3.9.13"
  },
  "orig_nbformat": 4,
  "vscode": {
   "interpreter": {
    "hash": "8a0bd2095b353ab5a15c331f6238ff6e5f0a1ddfb6f59cc2bb169b808bdd1655"
   }
  }
 },
 "nbformat": 4,
 "nbformat_minor": 2
}
