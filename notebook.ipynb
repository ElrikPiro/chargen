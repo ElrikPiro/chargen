{
 "cells": [
  {
   "cell_type": "code",
   "execution_count": 1,
   "metadata": {},
   "outputs": [
    {
     "name": "stdout",
     "output_type": "stream",
     "text": [
      "hmmm...\n",
      "Uh, yes, hello world\n"
     ]
    }
   ],
   "source": [
    "import chargen\n",
    "\n",
    "chargen.core.helloWorld()"
   ]
  }
 ],
 "metadata": {
  "interpreter": {
   "hash": "f185b130c482f862dad4b11cdba0048fee4ea9d09cfbb27c8141c73077f9bfac"
  },
  "kernelspec": {
   "display_name": "Python 3.9.12 64-bit (windows store)",
   "language": "python",
   "name": "python3"
  },
  "language_info": {
   "codemirror_mode": {
    "name": "ipython",
    "version": 3
   },
   "file_extension": ".py",
   "mimetype": "text/x-python",
   "name": "python",
   "nbconvert_exporter": "python",
   "pygments_lexer": "ipython3",
   "version": "3.9.12"
  },
  "orig_nbformat": 4
 },
 "nbformat": 4,
 "nbformat_minor": 2
}
