{
 "cells": [
  {
   "cell_type": "code",
   "execution_count": null,
   "metadata": {},
   "outputs": [],
   "source": [
    "from chargen import Character\n",
    "\n",
    "personaje = Character({}, 'jason.json')\n",
    "nombre = personaje.getNombre()\n",
    "nacimiento = personaje.getNacimiento()\n",
    "muerte = personaje.getMuerte()\n",
    "matrimonio = personaje.getMatrimonio()\n",
    "sexo = personaje.getSexo()\n",
    "edad = personaje.getEdad(\"Mockup\")\n",
    "familia = personaje.getFamilia()\n",
    "lugarNacimiento = personaje.getLugarNacimiento()['nombre']\n",
    "lugarResidencia = personaje.getLugarResidencia()['nombre']\n",
    "claseSocial = personaje.getClaseSocial()\n",
    "\n",
    "papasito = personaje.getPadre()\n",
    "mamasita = personaje.getMadre()\n",
    "listaHermanos = personaje.getHermanos()\n",
    "conyugue = personaje.getConyugue()\n",
    "hijos = personaje.getHijos()\n",
    "\n",
    "daddy = papasito.getPersonalidad()\n",
    "mommy = mamasita.getPersonalidad()\n",
    "mine = personaje.getPersonalidad()\n",
    "\n",
    "genesPapa = papasito.getGenoma()\n",
    "genesMama = mamasita.getGenoma()\n",
    "misGenes = personaje.getGenoma()\n",
    "\n",
    "##personaje.save()\n"
   ]
  },
  {
   "cell_type": "code",
   "execution_count": null,
   "metadata": {},
   "outputs": [],
   "source": [
    "import os\n",
    "from chargen import render\n",
    "from chargen import Character\n",
    "\n",
    "#check if file exists\n",
    "if not os.path.isfile('json/personaje_2_1991.json'):\n",
    "    david = Character({\"sexo\": \"Hombre\", \"eventos\": {\"nacimiento\": 1991}})\n",
    "    print(render.markdownGenerator(david.file))\n",
    "else:\n",
    "    david = Character({}, \"personaje_2_1991.json\")\n",
    "    print(render.markdownGenerator(david.file))"
   ]
  }
 ],
 "metadata": {
  "kernelspec": {
   "display_name": "Python 3.9.13 64-bit (windows store)",
   "language": "python",
   "name": "python3"
  },
  "language_info": {
   "codemirror_mode": {
    "name": "ipython",
    "version": 3
   },
   "file_extension": ".py",
   "mimetype": "text/x-python",
   "name": "python",
   "nbconvert_exporter": "python",
   "pygments_lexer": "ipython3",
   "version": "3.9.13"
  },
  "orig_nbformat": 4,
  "vscode": {
   "interpreter": {
    "hash": "8a0bd2095b353ab5a15c331f6238ff6e5f0a1ddfb6f59cc2bb169b808bdd1655"
   }
  }
 },
 "nbformat": 4,
 "nbformat_minor": 2
}
