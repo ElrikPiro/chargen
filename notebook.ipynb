{
 "cells": [
  {
   "cell_type": "markdown",
   "metadata": {},
   "source": [
    "# r 0.1.2"
   ]
  },
  {
   "cell_type": "code",
   "execution_count": null,
   "metadata": {},
   "outputs": [],
   "source": [
    "# Testing the graph generator\n",
    "import chargen\n",
    "\n",
    "json = chargen.loadJson('config/localizaciones.json')\n",
    "\n",
    "alcries = chargen.LocalizacionesNodo(json['Alcries'])\n",
    "onda = chargen.LocalizacionesNodo(json['Onda'])\n",
    "ayodar = chargen.LocalizacionesNodo(json['Ayodar'])\n",
    "valencia = chargen.LocalizacionesNodo(json['Valencia'])\n",
    "\n",
    "grafo = chargen.GrafoLocalizaciones()\n",
    "grafo.setNodo(alcries)\n",
    "grafo.setNodo(onda)\n",
    "grafo.setNodo(ayodar)\n",
    "grafo.setNodo(valencia)\n",
    "\n",
    "print(grafo.getShortestPath(\"Onda\", \"Valencia\"))\n",
    "\n",
    "valencia.addEnlace(onda, 1)\n",
    "grafo.setNodo(valencia)\n",
    "\n",
    "print(grafo.getShortestPath(\"Onda\", \"Valencia\"))\n",
    "\n",
    "valencia.addEnlace(onda, 0.5)\n",
    "grafo.setNodo(valencia)\n",
    "\n",
    "print(grafo.getShortestPath(\"Onda\", \"Valencia\"))\n",
    "\n",
    "onda.addEnlace(valencia, 0.5)\n",
    "grafo.setNodo(onda)\n",
    "\n",
    "print(grafo.getShortestPath(\"Onda\", \"Valencia\"))\n"
   ]
  },
  {
   "cell_type": "code",
   "execution_count": null,
   "metadata": {},
   "outputs": [],
   "source": [
    "import os\n",
    "from chargen import render\n",
    "from chargen import Character\n",
    "\n",
    "#check if file exists\n",
    "if not os.path.isfile('json/personaje_2_1991.json'):\n",
    "    david = Character({\"sexo\": \"Hombre\", \"eventos\": {\"nacimiento\": 1991}})\n",
    "    print(render.markdownGenerator(david.file))\n",
    "else:\n",
    "    david = Character({}, \"personaje_2_1991.json\")\n",
    "    print(render.markdownGenerator(david.file))"
   ]
  },
  {
   "cell_type": "code",
   "execution_count": null,
   "metadata": {},
   "outputs": [],
   "source": [
    "import chargen\n",
    "\n",
    "god = chargen.Caller('', chargen.RelationType.GOD)\n",
    "\n",
    "# makijson = {\n",
    "#     \"eventos\": {\n",
    "#         \"matrimonio\": 610,\n",
    "#         \"nacimiento\": 587,\n",
    "#         \"muerte\": 636\n",
    "#     },\n",
    "#     \"sexo\": \"Mujer\",\n",
    "#     \"lugar_residencia\": \"Shizuka\",\n",
    "#     \"clase_social\": \"Artesano\",\n",
    "#     \"parientes\": {\n",
    "#         \"conyugue\": \"personaje_13_593.json\",\n",
    "#         \"hijos\": {\n",
    "#             \"len\": 2,\n",
    "#             \"lista\": []\n",
    "#         }\n",
    "#     },\n",
    "#     \"familia\": \"Hada\",\n",
    "#     \"lugar_nacimiento\": \"Shizuka\"\n",
    "# }\n",
    "\n",
    "# maki = chargen.Character(deductions=makijson, caller=god)\n",
    "# newCharjson = {\n",
    "#     \"eventos\": {\n",
    "#         \"nacimiento\": 613,\n",
    "#     },\n",
    "#     \"sexo\": \"Mujer\",\n",
    "#     \"familia\": \"Taiki\",\n",
    "#     \"lugar_nacimiento\": \"Himitsumachi Higashikaze\",\n",
    "#     \"clase_social\": \"Artesano\",\n",
    "#     \"parientes\": {\n",
    "#         \"padre\": \"personaje_13_593.json\",\n",
    "#         \"madre\": maki.file,\n",
    "#     }\n",
    "# }\n",
    "#newChar = chargen.Character(newCharjson, caller=god)\n",
    "\n",
    "newChar = chargen.Character({}, \"personaje_31_613.json\")\n",
    "\n",
    "with open(\"newChar.md\", \"w\") as f:\n",
    "    charMd = chargen.render.markdownGenerator(newChar.file)\n",
    "    f.write(charMd)\n",
    "    print(charMd)"
   ]
  }
 ],
 "metadata": {
  "kernelspec": {
   "display_name": "Python 3.9.13 64-bit (windows store)",
   "language": "python",
   "name": "python3"
  },
  "language_info": {
   "codemirror_mode": {
    "name": "ipython",
    "version": 3
   },
   "file_extension": ".py",
   "mimetype": "text/x-python",
   "name": "python",
   "nbconvert_exporter": "python",
   "pygments_lexer": "ipython3",
   "version": "3.9.13"
  },
  "orig_nbformat": 4,
  "vscode": {
   "interpreter": {
    "hash": "8a0bd2095b353ab5a15c331f6238ff6e5f0a1ddfb6f59cc2bb169b808bdd1655"
   }
  }
 },
 "nbformat": 4,
 "nbformat_minor": 2
}
